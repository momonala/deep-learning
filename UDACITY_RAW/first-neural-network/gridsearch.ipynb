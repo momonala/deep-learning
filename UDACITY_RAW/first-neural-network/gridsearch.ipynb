{
 "cells": [
  {
   "cell_type": "code",
   "execution_count": null,
   "metadata": {
    "collapsed": true,
    "deletable": true,
    "editable": true
   },
   "outputs": [],
   "source": [
    "# hyper param grid search "
   ]
  },
  {
   "cell_type": "code",
   "execution_count": null,
   "metadata": {
    "collapsed": false,
    "deletable": true,
    "editable": true
   },
   "outputs": [],
   "source": [
    "import sys\n",
    "\n",
    "### Set the hyperparameters here ###\n",
    "epochs_list = [100, 500, 1000, 2000]\n",
    "learning_rate_list = [0.01, 0.001]\n",
    "hidden_nodes_list = [10, 15, 20, 25] #between output (1) and feautures (52)\n",
    "output_nodes = 1\n",
    "\n",
    "hyperparams = []\n",
    "for i, iterations in enumerate(epochs_list): \n",
    "    for j, learning_rate in enumerate(learning_rate_list): \n",
    "        for k, hidden_nodes in enumerate(hidden_nodes_list):\n",
    "            N_i = train_features.shape[1]\n",
    "            network = NeuralNetwork(N_i, hidden_nodes, output_nodes, learning_rate)\n",
    "            \n",
    "            trial = i+j+k\n",
    "            losses = {'train':[], 'validation':[]}\n",
    "            for ii in range(iterations):\n",
    "                # Go through a random batch of 128 records from the training data set\n",
    "                batch = np.random.choice(train_features.index, size=128)\n",
    "                X, y = train_features.ix[batch].values, train_targets.ix[batch]['cnt']\n",
    "\n",
    "                network.train(X, y)\n",
    "\n",
    "                # Printing out the training progress\n",
    "                train_loss = MSE(network.run(train_features).T, train_targets['cnt'].values)\n",
    "                val_loss = MSE(network.run(val_features).T, val_targets['cnt'].values)\n",
    "            \n",
    "                sys.stdout.write(\"\\rTrial: \" + str(trial)\n",
    "                                 + \"  Progress: {:2.1f}\".format(100 * ii/float(iterations)) \\\n",
    "                                 + \"% ... Training loss: \" + str(train_loss)[:5] \\\n",
    "                                 + \" ... Validation loss: \" + str(val_loss)[:5])\n",
    "                sys.stdout.flush()\n",
    "\n",
    "                losses['train'].append(train_loss)\n",
    "                losses['validation'].append(val_loss)\n",
    "                final_train_loss = train_loss\n",
    "            hyperparams.append([train_loss, iteration, hidden_nodes, learning_rate])\n",
    "hyperparams.sort(key=lambda x: x[1])\n",
    "print ()\n",
    "print (\"best iteration:\", hyperparams[0])"
   ]
  },
  {
   "cell_type": "code",
   "execution_count": null,
   "metadata": {
    "collapsed": true,
    "deletable": true,
    "editable": true
   },
   "outputs": [],
   "source": []
  }
 ],
 "metadata": {
  "kernelspec": {
   "display_name": "Python 3",
   "language": "python",
   "name": "python3"
  },
  "language_info": {
   "codemirror_mode": {
    "name": "ipython",
    "version": 3
   },
   "file_extension": ".py",
   "mimetype": "text/x-python",
   "name": "python",
   "nbconvert_exporter": "python",
   "pygments_lexer": "ipython3",
   "version": "3.6.1"
  }
 },
 "nbformat": 4,
 "nbformat_minor": 2
}
