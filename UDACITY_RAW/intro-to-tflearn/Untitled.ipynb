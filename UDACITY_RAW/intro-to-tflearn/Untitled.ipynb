{
 "cells": [
  {
   "cell_type": "code",
   "execution_count": 1,
   "metadata": {},
   "outputs": [
    {
     "name": "stdout",
     "output_type": "stream",
     "text": [
      "curses is not supported on this machine (please install/reinstall curses for an optimal experience)\n"
     ]
    }
   ],
   "source": [
    "import tensorflow as tf\n",
    "import tflearn\n",
    "\n",
    "import pandas as pd \n",
    "import numpy as np \n",
    "from sklearn.model_selection import train_test_split\n",
    "\n",
    "from __future__ import division, print_function, absolute_import\n",
    "\n",
    "import tflearn\n",
    "from tflearn.layers.core import input_data, dropout, fully_connected\n",
    "from tflearn.layers.conv import conv_2d, max_pool_2d\n",
    "from tflearn.layers.normalization import local_response_normalization\n",
    "from tflearn.layers.estimator import regression"
   ]
  },
  {
   "cell_type": "code",
   "execution_count": 11,
   "metadata": {},
   "outputs": [],
   "source": [
    "#split data into features (images) and classes (labels)\n",
    "full_df = pd.read_csv('flattend.csv')\n",
    "labels = full_df.iloc[:, 0]\n",
    "labels_OH = pd.get_dummies(labels) #onehot encoded \n",
    "names = full_df.iloc[:, 1] #string ID\n",
    "images = full_df.iloc[:, 2:]\n",
    "images[images>0]=1  #convert back to binary (compression changed that)\n",
    "\n",
    "#get subsets of data to test around with \n",
    "labels_subset = labels_OH[:4000].values\n",
    "images_subset = images[:4000].values\n",
    "\n",
    "#split data into chunks (20% each) for a 5-fold cross validation \n",
    "(trainX, testX, trainY, testY) =  train_test_split(images_subset, labels_subset)\n",
    "\n",
    "#reshape back to normal image shape \n",
    "trainX = trainX.reshape([-1, 8, 1536, 1])\n",
    "testX = testX.reshape([-1, 8, 1536, 1])"
   ]
  },
  {
   "cell_type": "code",
   "execution_count": 12,
   "metadata": {},
   "outputs": [
    {
     "name": "stdout",
     "output_type": "stream",
     "text": [
      "INFO:tensorflow:C:\\Users\\mohit\\Documents\\Python\\data_science\\deep-learning\\intro-to-tflearn\\my_model.tflearn is not in all_model_checkpoint_paths. Manually adding it.\n"
     ]
    }
   ],
   "source": [
    "# Building convolutional network\n",
    "tf.reset_default_graph()\n",
    "network = input_data(shape=[None, 8, 1536, 1], name='input')\n",
    "network = conv_2d(network, 32, 3, activation='relu', regularizer=\"L2\")\n",
    "network = max_pool_2d(network, 2)\n",
    "\n",
    "network = local_response_normalization(network)\n",
    "network = conv_2d(network, 64, 3, activation='relu', regularizer=\"L2\")\n",
    "network = max_pool_2d(network, 2)\n",
    "\n",
    "network = local_response_normalization(network)\n",
    "network = fully_connected(network, 128, activation='tanh')\n",
    "network = dropout(network, 0.8)\n",
    "network = fully_connected(network, 256, activation='tanh')\n",
    "network = dropout(network, 0.8)\n",
    "network = fully_connected(network, 4, activation='softmax')\n",
    "\n",
    "network = regression(network, optimizer='adam', learning_rate=0.01,\n",
    "                     loss='categorical_crossentropy', name='target')\n",
    "\n",
    "# Training\n",
    "model = tflearn.DNN(network, tensorboard_verbose=0)\n",
    "#model.fit(trainX, trainY, validation_set=0.1, show_metric=True, batch_size=100, n_epoch=100)\n",
    "\n",
    "model.save('my_model.tflearn')"
   ]
  },
  {
   "cell_type": "code",
   "execution_count": 63,
   "metadata": {},
   "outputs": [],
   "source": [
    "y_hat = model.predict(trainX)\n",
    "y_hat_pd = pd.DataFrame(data=y_hat, columns=labels_OH.columns)\n",
    "testY_pd = pd.DataFrame(data=trainY, columns=labels_OH.columns)"
   ]
  },
  {
   "cell_type": "code",
   "execution_count": 64,
   "metadata": {},
   "outputs": [
    {
     "name": "stdout",
     "output_type": "stream",
     "text": [
      "206 794\n"
     ]
    }
   ],
   "source": [
    "correct = []\n",
    "wrong = []\n",
    "\n",
    "for i in range(len(testX)):\n",
    "    prediction = y_hat_pd.iloc[i].argmax()\n",
    "    true = testY_pd.iloc[i].argmax()\n",
    "    if prediction==true: \n",
    "        correct.append(i)\n",
    "    else:\n",
    "        wrong.append(i)\n",
    "print (len(correct), len(wrong))"
   ]
  },
  {
   "cell_type": "code",
   "execution_count": null,
   "metadata": {
    "collapsed": true
   },
   "outputs": [],
   "source": []
  }
 ],
 "metadata": {
  "kernelspec": {
   "display_name": "Python 3",
   "language": "python",
   "name": "python3"
  },
  "language_info": {
   "codemirror_mode": {
    "name": "ipython",
    "version": 3
   },
   "file_extension": ".py",
   "mimetype": "text/x-python",
   "name": "python",
   "nbconvert_exporter": "python",
   "pygments_lexer": "ipython3",
   "version": "3.5.2"
  }
 },
 "nbformat": 4,
 "nbformat_minor": 2
}
